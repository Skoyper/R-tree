{
  "nbformat": 4,
  "nbformat_minor": 0,
  "metadata": {
    "colab": {
      "provenance": [],
      "authorship_tag": "ABX9TyM5t6Rn1I9Kru5cGuCI4+10",
      "include_colab_link": true
    },
    "kernelspec": {
      "name": "python3",
      "display_name": "Python 3"
    },
    "language_info": {
      "name": "python"
    }
  },
  "cells": [
    {
      "cell_type": "markdown",
      "metadata": {
        "id": "view-in-github",
        "colab_type": "text"
      },
      "source": [
        "<a href=\"https://colab.research.google.com/github/Skoyper/R-tree/blob/main/bisection.ipynb\" target=\"_parent\"><img src=\"https://colab.research.google.com/assets/colab-badge.svg\" alt=\"Open In Colab\"/></a>"
      ]
    },
    {
      "cell_type": "code",
      "execution_count": null,
      "metadata": {
        "colab": {
          "base_uri": "https://localhost:8080/",
          "height": 317
        },
        "id": "y5MoXp0y6yAL",
        "outputId": "04a33cc5-1d29-483f-a160-af74472d0230"
      },
      "outputs": [
        {
          "output_type": "stream",
          "name": "stdout",
          "text": [
            "Корень 1: x = -0.3614363670349121 | Итераций: 21\n",
            "Корень 2: x = 1.9342026710510254 | Итераций: 21\n",
            "Корень 3: x = 8.377314686775208 | Итераций 22\n"
          ]
        },
        {
          "output_type": "display_data",
          "data": {
            "text/plain": [
              "<Figure size 432x288 with 1 Axes>"
            ],
            "image/png": "[encoded data removed]"
          },
          "metadata": {
            "needs_background": "light"
          }
        }
      ],
      "source": [
        "import numpy as np\n",
        "import matplotlib.pyplot as plt\n",
        "\n",
        "\n",
        "def f(x):\n",
        "    return np.cos(x) - np.exp(-x) + 0.5\n",
        "\n",
        "def bisection(a, b, xtol=1e-6, ftol=1e-6):\n",
        "    if f(a) * f(b) > 0:\n",
        "        print('Нет корней')\n",
        "    else:\n",
        "        count = 0\n",
        "        c = 1\n",
        "        while abs(f(c)) > xtol and abs(b - a) > ftol:\n",
        "            c = (a + b) / 2\n",
        "            if f(a) * f(c) < 0:\n",
        "                b = c\n",
        "            elif f(a) * f(c) > 0:\n",
        "                a = c\n",
        "            c = (a + b) / 2\n",
        "            count += 1\n",
        "\n",
        "            if count == 200:\n",
        "                break\n",
        "        return c, count\n",
        "\n",
        "eps = 1e-6\n",
        "x1 = np.linspace(-2, 0, 100)\n",
        "x2 = np.linspace(1, 3, 100)\n",
        "x3 = np.linspace(7, 10, 100)\n",
        "\n",
        "\n",
        "root1, iters1 = bisection(-2, 0, f, eps)\n",
        "root2, iters2 = bisection(1, 3, f, eps)\n",
        "root3, iters3 = bisection(7, 10, f, eps)\n",
        "\n",
        "\n",
        "print('Корень 1: x =', root1, '| Итераций:', iters1)\n",
        "print('Корень 2: x =', root2, '| Итераций:', iters2)\n",
        "print('Корень 3: x =', root3, '| Итераций', iters3)\n",
        "\n",
        "x = np.linspace(-10, 30, 1000)\n",
        "y = f(x)\n",
        "plt.plot(x, y)\n",
        "plt.plot(root1, 0, 'bo', label=f\"Корень 1: {root1:.5f}\")\n",
        "plt.plot(root2, 0, 'go', label=f\"Корень 2: {root2:.5f}\")\n",
        "plt.plot(root3, 0, 'ro', label=f\"Корень 3: {root3:.5f}\")\n",
        "plt.legend()\n",
        "plt.show()\n",
        "\n",
        "\n"
      ]
    }
  ]
}